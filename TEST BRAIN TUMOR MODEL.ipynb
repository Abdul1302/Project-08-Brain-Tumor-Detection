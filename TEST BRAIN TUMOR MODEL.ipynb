{
 "cells": [
  {
   "cell_type": "code",
   "execution_count": 1,
   "id": "30a1637e",
   "metadata": {},
   "outputs": [],
   "source": [
    "import requests\n",
    "import numpy as np\n",
    "from PIL import Image\n",
    "from tensorflow.keras.preprocessing import image\n",
    "from tensorflow.keras.models import load_model\n",
    "import tensorflow as tf           "
   ]
  },
  {
   "cell_type": "code",
   "execution_count": 2,
   "id": "c9b9300e",
   "metadata": {},
   "outputs": [],
   "source": [
    "# Assuming you have loaded or loaded a pre-trained model\n",
    "# Replace 'your_model.h5' with the actual filename of your model\n",
    "model = load_model('Brain Tumor Detection Model.h5')\n"
   ]
  },
  {
   "cell_type": "code",
   "execution_count": 3,
   "id": "5b1bfde5",
   "metadata": {},
   "outputs": [],
   "source": [
    "# Assuming you have a list of class names\n",
    "class_names = ['glioma', 'meningioma', 'notumor', 'pituitary']\n",
    "\n"
   ]
  },
  {
   "cell_type": "code",
   "execution_count": 5,
   "id": "c27e1c39",
   "metadata": {
    "scrolled": false
   },
   "outputs": [
    {
     "name": "stdout",
     "output_type": "stream",
     "text": [
      "1/1 [==============================] - 0s 32ms/step\n",
      "The predicted class is: meningioma\n"
     ]
    }
   ],
   "source": [
    "# Create a dictionary to map indices to class names\n",
    "index_to_class = {i: class_name for i, class_name in enumerate(class_names)}\n",
    "\n",
    "# Replace this URL with the actual URL of your image\n",
    "img_url = r\"C:\\Users\\abdul\\Downloads\\meningioma.jpg\"  \n",
    "\n",
    "# Open and resize the image\n",
    "img = Image.open(img_url)\n",
    "img = img.resize((200, 200))\n",
    "\n",
    "# Convert the image to a NumPy array and normalize\n",
    "img_array = image.img_to_array(img)\n",
    "img_array = np.expand_dims(img_array, axis=0)\n",
    "img_array = img_array / 255.0\n",
    "\n",
    "# Perform the prediction\n",
    "predictions = model.predict(img_array)\n",
    "\n",
    "# Get the predicted class index\n",
    "predicted_class_index = np.argmax(predictions[0])\n",
    "\n",
    "# Get the predicted class name using the dictionary\n",
    "predicted_class = index_to_class[predicted_class_index]\n",
    "\n",
    "print(f\"The predicted class is: {predicted_class}\")\n"
   ]
  },
  {
   "cell_type": "code",
   "execution_count": null,
   "id": "0e108862",
   "metadata": {},
   "outputs": [],
   "source": []
  }
 ],
 "metadata": {
  "kernelspec": {
   "display_name": "Python 3 (ipykernel)",
   "language": "python",
   "name": "python3"
  },
  "language_info": {
   "codemirror_mode": {
    "name": "ipython",
    "version": 3
   },
   "file_extension": ".py",
   "mimetype": "text/x-python",
   "name": "python",
   "nbconvert_exporter": "python",
   "pygments_lexer": "ipython3",
   "version": "3.9.13"
  }
 },
 "nbformat": 4,
 "nbformat_minor": 5
}
